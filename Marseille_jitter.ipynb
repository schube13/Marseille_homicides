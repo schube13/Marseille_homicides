{
 "cells": [
  {
   "cell_type": "code",
   "execution_count": 1,
   "id": "c05a3463-30a5-4a37-9c40-837d88576d1c",
   "metadata": {},
   "outputs": [],
   "source": [
    "import pandas as pd"
   ]
  },
  {
   "cell_type": "code",
   "execution_count": 7,
   "id": "f776807d-cce5-4ff9-9ed9-092500f55f54",
   "metadata": {},
   "outputs": [],
   "source": [
    "df = pd.read_csv('Morde_Marseille_neu.csv')"
   ]
  },
  {
   "cell_type": "code",
   "execution_count": 8,
   "id": "5da87d51-1607-4783-84b9-433cd9d6fdb5",
   "metadata": {},
   "outputs": [],
   "source": [
    "import numpy as np\n",
    "\n",
    "# Stärke des Jitters (in Grad)\n",
    "jitter_strength = 0.0002\n",
    "\n",
    "# Zähle doppelte Koordinaten (inkl. Wiederholungen)\n",
    "dups = df.duplicated(subset=['Lat', 'Lon'], keep=False)\n",
    "\n",
    "# Erzeuge neue Spalten\n",
    "df['Lat_jitter'] = df['Lat']\n",
    "df['Lon_jitter'] = df['Lon']\n",
    "\n",
    "# Nur Duplikate erhalten Jitter\n",
    "df.loc[dups, 'Lat_jitter'] += np.random.uniform(-jitter_strength, jitter_strength, size=dups.sum())\n",
    "df.loc[dups, 'Lon_jitter'] += np.random.uniform(-jitter_strength, jitter_strength, size=dups.sum())\n"
   ]
  },
  {
   "cell_type": "code",
   "execution_count": 9,
   "id": "db301e0b-7076-4fad-b318-82f7ba104523",
   "metadata": {},
   "outputs": [],
   "source": [
    "from shapely.geometry import Point\n",
    "import geopandas as gpd\n",
    "\n",
    "gdf = gpd.GeoDataFrame(df, geometry=gpd.points_from_xy(df['Lon_jitter'], df['Lat_jitter']), crs='EPSG:4326')\n",
    "gdf.to_file(\"morde_gejittert_neu.geojson\", driver=\"GeoJSON\")\n"
   ]
  },
  {
   "cell_type": "code",
   "execution_count": 10,
   "id": "93f7d5a6-993d-4987-93b2-b9427fac19a8",
   "metadata": {},
   "outputs": [],
   "source": [
    "df.to_csv(\"morde_geh^jittert_neu.csv\", index=False)\n"
   ]
  },
  {
   "cell_type": "code",
   "execution_count": null,
   "id": "1bc31ad8-f0ff-4545-8eda-8e1ad4a3961e",
   "metadata": {},
   "outputs": [],
   "source": []
  }
 ],
 "metadata": {
  "kernelspec": {
   "display_name": "Python 3 (ipykernel)",
   "language": "python",
   "name": "python3"
  },
  "language_info": {
   "codemirror_mode": {
    "name": "ipython",
    "version": 3
   },
   "file_extension": ".py",
   "mimetype": "text/x-python",
   "name": "python",
   "nbconvert_exporter": "python",
   "pygments_lexer": "ipython3",
   "version": "3.11.8"
  }
 },
 "nbformat": 4,
 "nbformat_minor": 5
}
